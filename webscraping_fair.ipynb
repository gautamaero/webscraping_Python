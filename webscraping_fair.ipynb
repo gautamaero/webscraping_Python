{
 "cells": [
  {
   "cell_type": "markdown",
   "id": "2dad4fbe",
   "metadata": {},
   "source": [
    "# Scraping Book-website using Python and BeautifulSoup"
   ]
  },
  {
   "cell_type": "markdown",
   "id": "2ccc1ea7",
   "metadata": {},
   "source": [
    "## Choosing the [Book website to Scrap](https://books.toscrape.com/index.html) and describing object to scrap ![](https://i.imgur.com/NvTiIil.jpeg)\n",
    "\n",
    "### Introduction:\n",
    " Book to scrape has been chosen as it contains a wide range of books from all genres containing sufficient information, which can attract people of all ages.  As every website may not allow scraping due to commercial purposes, the Book to scrape website provides the ease to scrape, so without adopting an unethical way, required information can be extracted.   \n",
    "\n",
    "- Browse through different pages of the Book website and pick on to scrape.\n",
    "- Identify the information you'd like to scrape from the site. Decide the format of the output CSV file.\n",
    "- Summarize your project idea in a paragraph using a Markdown cell and outline your strategy."
   ]
  },
  {
   "cell_type": "markdown",
   "id": "45bc1ffe",
   "metadata": {},
   "source": [
    "## Project Outline\n",
    "- We are going to scrap https://books.toscrape.com/index.html\n",
    "- We are going to scrap different webpages associated to this website, containing differnt book information \n",
    "- For the each webpage associated with  [Main url](https://books.toscrape.com/index.html) scrap all the books presents on corresponding pages of [Main url]\n",
    "\n",
    "- For the each webpage associated with [Main url](https://books.toscrape.com/index.html) extract the information like Book_Title, Book_cost, Book_Rating, Book_availability, Book_uniqueCode(UPSC), Particular Book_link\n",
    "\n",
    "- The final output of the project should look like \n",
    "\n",
    "\n",
    "```      \n",
    "        \"Book_title\":Title,\n",
    "         \n",
    "         \"Price\":Book_Price,\n",
    "        \n",
    "        \"Availability\": No_of_Copies,\n",
    "        \n",
    "        \"Book_url\":Book_url,\n",
    "        \n",
    "        \"Book Rating\":Rating+\" \"+ \"star\",\n",
    "        \n",
    "        \"Book_code\":Book_code,\n",
    "        \n",
    "        \"Geners\":Geners\n",
    "        \n",
    "        ```\n"
   ]
  },
  {
   "cell_type": "markdown",
   "id": "0ba2edbb",
   "metadata": {},
   "source": [
    "### Sucessful completion of the project shoul give desired output in the Dataframe : ![](https://i.imgur.com/fXwhFRk.png)"
   ]
  },
  {
   "cell_type": "markdown",
   "id": "de596e2c",
   "metadata": {},
   "source": [
    "## User Interface of scrape website looks like: ![ ](https://i.imgur.com/bI9JRYm.png)\n",
    "\n",
    "- It can be refered that [Base URL](http://books.toscrape.com/catalogue/page-) and total number of Pages is 50 which need to scrape \n",
    "\n"
   ]
  },
  {
   "cell_type": "markdown",
   "id": "5c684d31",
   "metadata": {},
   "source": [
    "## Creating the Weblink corresponding to all 50 webpages"
   ]
  },
  {
   "cell_type": "code",
   "execution_count": 6,
   "id": "0346c059",
   "metadata": {},
   "outputs": [],
   "source": [
    "# Demonstration of creating all weblink \n",
    "base_url=\"http://books.toscrape.com/catalogue/page-\"\n",
    "url_L=base_url+str(1)+\".html\"  # So 1 can be changed to another number based on weblink"
   ]
  },
  {
   "cell_type": "code",
   "execution_count": 7,
   "id": "1a751811",
   "metadata": {},
   "outputs": [],
   "source": [
    "base_url=\"http://books.toscrape.com/catalogue/page-\"\n",
    "url_list=[]  # Empty list to stored the all weblink \n",
    "\n",
    "for i in range(1,51):\n",
    "    add_url=base_url + str(i) +\".html\"\n",
    "    url_list.append(add_url)\n"
   ]
  },
  {
   "cell_type": "markdown",
   "id": "74572878",
   "metadata": {},
   "source": [
    "## Importing Required Python library:\n",
    "[Request ](https://pypi.org/project/requests/), [BeautifulSoup](https://beautiful-soup-4.readthedocs.io/en/latest/), [Pandas](https://pandas.pydata.org/), [CSV](https://docs.python.org/3/library/csv.html)  library "
   ]
  },
  {
   "cell_type": "code",
   "execution_count": 8,
   "id": "7581fda1",
   "metadata": {},
   "outputs": [],
   "source": [
    "import requests\n",
    "import jovian\n",
    "from bs4 import BeautifulSoup\n",
    "import pandas as pd\n",
    "import csv"
   ]
  },
  {
   "cell_type": "markdown",
   "id": "fa6411c8",
   "metadata": {},
   "source": [
    "## Function for authentication of weblink by getting it's [HTTP's response](https://developer.mozilla.org/en-US/docs/Web/HTTP/Status) "
   ]
  },
  {
   "cell_type": "code",
   "execution_count": 9,
   "id": "07ad0eab",
   "metadata": {},
   "outputs": [],
   "source": [
    "\n",
    "def url_fetch_status(url):\n",
    "    \n",
    "    response=requests.get(url)\n",
    "    \n",
    "    if response.status_code!=200:\n",
    "        \n",
    "        print(\"Status Code\",response.status_code)\n",
    "        \n",
    "        raise Exception('Failed to fetch web page'+url)\n",
    "    \n",
    "    doc=BeautifulSoup(response.text,'html.parser')\n",
    "    \n",
    "    return doc"
   ]
  },
  {
   "cell_type": "markdown",
   "id": "842da1b8",
   "metadata": {},
   "source": [
    "## HTML SOURCE CODE OVERVIEW \n",
    "- HTML documents start with a document type declaration:\n",
    "\n",
    "- The HTML document itself begins with <html> and ends with </html>.\n",
    "\n",
    "- The visible part of the HTML document is between <body> and </body>\n",
    "![](https://i.imgur.com/V0sJkus.png)\n",
    "\n",
    "\n",
    "```HMTL source code contain several of tags which is like a container which contain different category of items inside it, if we want to grab the information of particular category we have to acess the particular tag, and this principle will be applying for getting the required information ```\n"
   ]
  },
  {
   "cell_type": "markdown",
   "id": "b296e2fe",
   "metadata": {},
   "source": [
    " **Storing the Beautifousoup version of the response sent for the each of weblink created and stored in HTML file**"
   ]
  },
  {
   "cell_type": "code",
   "execution_count": 10,
   "id": "e9c8af47",
   "metadata": {},
   "outputs": [],
   "source": [
    "doc_collection=[]  # BeautifoulpSoup of weblink HTTP response \n",
    "for url in url_list:\n",
    "    doc_collection.append(url_fetch_status(url))"
   ]
  },
  {
   "cell_type": "markdown",
   "id": "38c4008d",
   "metadata": {},
   "source": [
    "**Checking for each weblink (i.e 50) there will be BeautifoulSoup version of HTML file got on getting the response**"
   ]
  },
  {
   "cell_type": "code",
   "execution_count": 11,
   "id": "84c4b182",
   "metadata": {},
   "outputs": [
    {
     "data": {
      "text/plain": [
       "50"
      ]
     },
     "execution_count": 11,
     "metadata": {},
     "output_type": "execute_result"
    }
   ],
   "source": [
    "len(doc_collection)"
   ]
  },
  {
   "cell_type": "markdown",
   "id": "bfbffeea",
   "metadata": {},
   "source": [
    " **Finding books present on the weblink using** tag li and class_=col-xs-6 col-sm-4 col-md-3 col-lg-3 \n",
    " \n",
    " ![](https://i.imgur.com/0ginh95.png)"
   ]
  },
  {
   "cell_type": "markdown",
   "id": "8524f538",
   "metadata": {},
   "source": [
    "## Creating helper functions"
   ]
  },
  {
   "cell_type": "markdown",
   "id": "73a2d072",
   "metadata": {},
   "source": [
    "### Finding list of tag containing all required information about book"
   ]
  },
  {
   "cell_type": "code",
   "execution_count": 12,
   "id": "d05f9b91",
   "metadata": {},
   "outputs": [],
   "source": [
    "#Function created to find all the availble books on the weblink\n",
    "\n",
    "def article_tags(doc):\n",
    "    all_article_tags=doc.find_all('li',class_=\"col-xs-6 col-sm-4 col-md-3 col-lg-3\")\n",
    "    return all_article_tags"
   ]
  },
  {
   "cell_type": "markdown",
   "id": "406e7288",
   "metadata": {},
   "source": [
    "### Finding  `a` tag for getting href of particular book ![](https://i.imgur.com/5vmLBgR.png)"
   ]
  },
  {
   "cell_type": "code",
   "execution_count": 13,
   "id": "f8c745d6",
   "metadata": {},
   "outputs": [],
   "source": [
    "all_tag_collection=[article_tags(doc) for doc in doc_collection]\n",
    "\n",
    "# Returning the list of collection of all tag  found for response.text found for each weblink"
   ]
  },
  {
   "cell_type": "markdown",
   "id": "f418076d",
   "metadata": {},
   "source": [
    "### Similar to finding the href for each book , creating function which can give all the required information and storing information in form of Dictonary ![](https://i.imgur.com/JMMlOxk.png)"
   ]
  },
  {
   "cell_type": "markdown",
   "id": "fb325f8d",
   "metadata": {},
   "source": [
    "### Getting book path"
   ]
  },
  {
   "cell_type": "code",
   "execution_count": 14,
   "id": "50084aa3",
   "metadata": {},
   "outputs": [],
   "source": [
    "def get_Book_path(tag):\n",
    "    Book_url=tag.find_all('a')[0]['href']\n",
    "    return Book_path"
   ]
  },
  {
   "cell_type": "markdown",
   "id": "96c60ce0",
   "metadata": {},
   "source": [
    "### Finding Book_url "
   ]
  },
  {
   "cell_type": "code",
   "execution_count": 15,
   "id": "2938859c",
   "metadata": {},
   "outputs": [],
   "source": [
    "def get_Book_url(Book_path):\n",
    "    Base_url=\"https://books.toscrape.com/catalogue/\"\n",
    "    Book_url=Base_url+Book_path\n",
    "    return Book_url"
   ]
  },
  {
   "cell_type": "markdown",
   "id": "f81a8926",
   "metadata": {},
   "source": [
    "###  Parsing url response of individual books as BeautifulSoup object"
   ]
  },
  {
   "cell_type": "code",
   "execution_count": 16,
   "id": "728ce255",
   "metadata": {},
   "outputs": [],
   "source": [
    "def get_Book_response(Book_url):\n",
    "    Book_response=requests.get(Book_url)\n",
    "    Book_doc=BeautifulSoup(Book_response.text,'html.parser')\n",
    "    return Book_doc"
   ]
  },
  {
   "cell_type": "markdown",
   "id": "b81e5dc4",
   "metadata": {},
   "source": [
    "### Finding geners of book "
   ]
  },
  {
   "cell_type": "code",
   "execution_count": 17,
   "id": "25a8423c",
   "metadata": {},
   "outputs": [],
   "source": [
    "def get_Book_geners(Book_doc):\n",
    "    Generes=Book_doc.find('ul',class_='breadcrumb').find_all('li')[2].text.strip()\n",
    "    return Generes  "
   ]
  },
  {
   "cell_type": "markdown",
   "id": "c998ac2f",
   "metadata": {},
   "source": [
    "### Getting book title"
   ]
  },
  {
   "cell_type": "code",
   "execution_count": 18,
   "id": "b2812d50",
   "metadata": {},
   "outputs": [],
   "source": [
    "def get_Book_title(Book_doc):\n",
    "    Book_individual_tag=Book_doc.find_all('h1')\n",
    "    Book_title=Book_individual_tag[0].text.strip()\n",
    "    return Book_title"
   ]
  },
  {
   "cell_type": "markdown",
   "id": "ff905fc0",
   "metadata": {},
   "source": [
    "### Finding number of book_copies available"
   ]
  },
  {
   "cell_type": "code",
   "execution_count": 19,
   "id": "1cf6b951",
   "metadata": {},
   "outputs": [],
   "source": [
    "def get_Book_copies(Book_doc):\n",
    "    Book_copies=Book_doc.find_all('p',class_=\"instock availability\")\n",
    "    No_of_Copies=Book_copies[0].text.strip()\n",
    "    return No_of_Copies"
   ]
  },
  {
   "cell_type": "markdown",
   "id": "d2eea915",
   "metadata": {},
   "source": [
    "### Finding the book_unicode"
   ]
  },
  {
   "cell_type": "code",
   "execution_count": 20,
   "id": "6fea3e6e",
   "metadata": {},
   "outputs": [],
   "source": [
    "def get_Book_code(Book_doc):\n",
    "    code=Book_doc.find_all('td')\n",
    "    Book_code=code[0].text\n",
    "    return Book_code"
   ]
  },
  {
   "cell_type": "markdown",
   "id": "83758924",
   "metadata": {},
   "source": [
    "### Getting price of book "
   ]
  },
  {
   "cell_type": "code",
   "execution_count": 21,
   "id": "090282ac",
   "metadata": {},
   "outputs": [],
   "source": [
    "def get_Book_price(tag):\n",
    "    Book_Price=tag.find('p',class_=\"price_color\").text.strip()\n",
    "    return Book_Price"
   ]
  },
  {
   "cell_type": "markdown",
   "id": "4bb7dcaf",
   "metadata": {},
   "source": [
    "###  Rating of book"
   ]
  },
  {
   "cell_type": "code",
   "execution_count": 22,
   "id": "22354b88",
   "metadata": {},
   "outputs": [],
   "source": [
    "def get_Book_rating(tag):\n",
    "    star_rating=tag.find_all('p')[0]\n",
    "    Rating=star_rating[\"class\"][1]\n",
    "    return Rating"
   ]
  },
  {
   "cell_type": "markdown",
   "id": "af950692",
   "metadata": {},
   "source": [
    "## Combining all helper functions for extraction of required information"
   ]
  },
  {
   "cell_type": "code",
   "execution_count": 23,
   "id": "5b921d59",
   "metadata": {},
   "outputs": [],
   "source": [
    "def main_function(tag):\n",
    "    Book_path=tag.find_all('a')[0]['href']\n",
    "    Base_url=\"https://books.toscrape.com/catalogue/\" \n",
    "    Book_url=Base_url+Book_path\n",
    "    Book_doc=get_Book_response(Book_url)\n",
    "    return {\n",
    "        \"Title\":get_Book_title(Book_doc),\n",
    "        \n",
    "        \"Price\":get_Book_price(tag),\n",
    "        \n",
    "        \"Availability\":get_Book_copies(Book_doc),\n",
    "        \n",
    "        \"Book_url\":Book_url,\n",
    "        \n",
    "        \"Book Rating\":get_Book_rating(tag)+\" \"+ \"star\",\n",
    "        \n",
    "        \"Book_code\":get_Book_code(Book_doc),\n",
    "        \n",
    "        \"Book_Geners\":get_Book_geners(Book_doc)\n",
    "\n",
    "            }"
   ]
  },
  {
   "cell_type": "markdown",
   "id": "8d26e6c5",
   "metadata": {},
   "source": [
    "**Creating the Hyperlink created required to fetch the Book details**\n"
   ]
  },
  {
   "cell_type": "code",
   "execution_count": 24,
   "id": "abf58c13",
   "metadata": {},
   "outputs": [
    {
     "data": {
      "text/plain": [
       "['a-light-in-the-attic_1000/index.html',\n",
       " 'in-her-wake_980/index.html',\n",
       " 'slow-states-of-collapse-poems_960/index.html',\n",
       " 'the-nameless-city-the-nameless-city-1_940/index.html',\n",
       " 'princess-jellyfish-2-in-1-omnibus-vol-01-princess-jellyfish-2-in-1-omnibus-1_920/index.html',\n",
       " 'immunity-how-elie-metchnikoff-changed-the-course-of-modern-medicine_900/index.html',\n",
       " 'algorithms-to-live-by-the-computer-science-of-human-decisions_880/index.html',\n",
       " 'the-shadow-hero-the-shadow-hero_860/index.html',\n",
       " 'the-bridge-to-consciousness-im-writing-the-bridge-between-science-and-our-old-and-new-beliefs_840/index.html',\n",
       " 'modern-romance_820/index.html']"
      ]
     },
     "execution_count": 24,
     "metadata": {},
     "output_type": "execute_result"
    }
   ],
   "source": [
    "Book_path=[tag[0].find_all('a')[0]['href'] for tag in all_tag_collection]\n",
    "Book_path[:10]"
   ]
  },
  {
   "cell_type": "code",
   "execution_count": 25,
   "id": "378b7483",
   "metadata": {},
   "outputs": [
    {
     "data": {
      "application/javascript": [
       "window.require && require([\"base/js/namespace\"],function(Jupyter){Jupyter.notebook.save_checkpoint()})"
      ],
      "text/plain": [
       "<IPython.core.display.Javascript object>"
      ]
     },
     "metadata": {},
     "output_type": "display_data"
    },
    {
     "name": "stdout",
     "output_type": "stream",
     "text": [
      "[jovian] Updating notebook \"jhagautamkumar362/webscraping-fair\" on https://jovian.ai\u001b[0m\n",
      "[jovian] Committed successfully! https://jovian.ai/jhagautamkumar362/webscraping-fair\u001b[0m\n"
     ]
    },
    {
     "data": {
      "text/plain": [
       "'https://jovian.ai/jhagautamkumar362/webscraping-fair'"
      ]
     },
     "execution_count": 25,
     "metadata": {},
     "output_type": "execute_result"
    }
   ],
   "source": [
    "jovian.commit()"
   ]
  },
  {
   "cell_type": "code",
   "execution_count": 26,
   "id": "d6412b02",
   "metadata": {},
   "outputs": [],
   "source": [
    "def parse_page(index):\n",
    "    base_url=\"http://books.toscrape.com/catalogue/page-\"\n",
    "    url=base_url+str(index)+\".html\"\n",
    "    doc=url_fetch_status(url)\n",
    "    tags=article_tags(doc)\n",
    "    all_info_Book=[main_function(tag) for tag in tags]\n",
    "    \n",
    "    return all_info_Book\n",
    "\n",
    "    "
   ]
  },
  {
   "cell_type": "code",
   "execution_count": 27,
   "id": "5ed4bab9",
   "metadata": {},
   "outputs": [
    {
     "data": {
      "text/plain": [
       "[{'Title': 'In Her Wake',\n",
       "  'Price': 'Â£12.84',\n",
       "  'Availability': 'In stock (19 available)',\n",
       "  'Book_url': 'https://books.toscrape.com/catalogue/in-her-wake_980/index.html',\n",
       "  'Book Rating': 'One star',\n",
       "  'Book_code': '23356462d1320d61',\n",
       "  'Book_Geners': 'Thriller'},\n",
       " {'Title': 'How Music Works',\n",
       "  'Price': 'Â£37.32',\n",
       "  'Availability': 'In stock (19 available)',\n",
       "  'Book_url': 'https://books.toscrape.com/catalogue/how-music-works_979/index.html',\n",
       "  'Book Rating': 'Two star',\n",
       "  'Book_code': '327f68a59745c102',\n",
       "  'Book_Geners': 'Music'},\n",
       " {'Title': 'Foolproof Preserving: A Guide to Small Batch Jams, Jellies, Pickles, Condiments, and More: A Foolproof Guide to Making Small Batch Jams, Jellies, Pickles, Condiments, and More',\n",
       "  'Price': 'Â£30.52',\n",
       "  'Availability': 'In stock (19 available)',\n",
       "  'Book_url': 'https://books.toscrape.com/catalogue/foolproof-preserving-a-guide-to-small-batch-jams-jellies-pickles-condiments-and-more-a-foolproof-guide-to-making-small-batch-jams-jellies-pickles-condiments-and-more_978/index.html',\n",
       "  'Book Rating': 'Three star',\n",
       "  'Book_code': '5674a18a29a43ced',\n",
       "  'Book_Geners': 'Food and Drink'},\n",
       " {'Title': 'Chase Me (Paris Nights #2)',\n",
       "  'Price': 'Â£25.27',\n",
       "  'Availability': 'In stock (19 available)',\n",
       "  'Book_url': 'https://books.toscrape.com/catalogue/chase-me-paris-nights-2_977/index.html',\n",
       "  'Book Rating': 'Five star',\n",
       "  'Book_code': 'c2e46a2ee3b4a322',\n",
       "  'Book_Geners': 'Romance'},\n",
       " {'Title': 'Black Dust',\n",
       "  'Price': 'Â£34.53',\n",
       "  'Availability': 'In stock (19 available)',\n",
       "  'Book_url': 'https://books.toscrape.com/catalogue/black-dust_976/index.html',\n",
       "  'Book Rating': 'Five star',\n",
       "  'Book_code': '00bfed9e18bb36f3',\n",
       "  'Book_Geners': 'Romance'},\n",
       " {'Title': 'Birdsong: A Story in Pictures',\n",
       "  'Price': 'Â£54.64',\n",
       "  'Availability': 'In stock (19 available)',\n",
       "  'Book_url': 'https://books.toscrape.com/catalogue/birdsong-a-story-in-pictures_975/index.html',\n",
       "  'Book Rating': 'Three star',\n",
       "  'Book_code': '9528d0948525bf5f',\n",
       "  'Book_Geners': 'Childrens'},\n",
       " {'Title': \"America's Cradle of Quarterbacks: Western Pennsylvania's Football Factory from Johnny Unitas to Joe Montana\",\n",
       "  'Price': 'Â£22.50',\n",
       "  'Availability': 'In stock (19 available)',\n",
       "  'Book_url': 'https://books.toscrape.com/catalogue/americas-cradle-of-quarterbacks-western-pennsylvanias-football-factory-from-johnny-unitas-to-joe-montana_974/index.html',\n",
       "  'Book Rating': 'Three star',\n",
       "  'Book_code': 'c7d160c2c0de586f',\n",
       "  'Book_Geners': 'Default'},\n",
       " {'Title': 'Aladdin and His Wonderful Lamp',\n",
       "  'Price': 'Â£53.13',\n",
       "  'Availability': 'In stock (19 available)',\n",
       "  'Book_url': 'https://books.toscrape.com/catalogue/aladdin-and-his-wonderful-lamp_973/index.html',\n",
       "  'Book Rating': 'Three star',\n",
       "  'Book_code': '904208d6aa64b655',\n",
       "  'Book_Geners': 'Default'},\n",
       " {'Title': 'Worlds Elsewhere: Journeys Around Shakespeareâ\\x80\\x99s Globe',\n",
       "  'Price': 'Â£40.30',\n",
       "  'Availability': 'In stock (18 available)',\n",
       "  'Book_url': 'https://books.toscrape.com/catalogue/worlds-elsewhere-journeys-around-shakespeares-globe_972/index.html',\n",
       "  'Book Rating': 'Five star',\n",
       "  'Book_code': '4c28def39d850cdf',\n",
       "  'Book_Geners': 'Nonfiction'},\n",
       " {'Title': 'Wall and Piece',\n",
       "  'Price': 'Â£44.18',\n",
       "  'Availability': 'In stock (18 available)',\n",
       "  'Book_url': 'https://books.toscrape.com/catalogue/wall-and-piece_971/index.html',\n",
       "  'Book Rating': 'Four star',\n",
       "  'Book_code': 'ccd9ffa25efabdea',\n",
       "  'Book_Geners': 'Art'},\n",
       " {'Title': 'The Four Agreements: A Practical Guide to Personal Freedom',\n",
       "  'Price': 'Â£17.66',\n",
       "  'Availability': 'In stock (18 available)',\n",
       "  'Book_url': 'https://books.toscrape.com/catalogue/the-four-agreements-a-practical-guide-to-personal-freedom_970/index.html',\n",
       "  'Book Rating': 'Five star',\n",
       "  'Book_code': '6258a1f6a6dcfe50',\n",
       "  'Book_Geners': 'Spirituality'},\n",
       " {'Title': 'The Five Love Languages: How to Express Heartfelt Commitment to Your Mate',\n",
       "  'Price': 'Â£31.05',\n",
       "  'Availability': 'In stock (18 available)',\n",
       "  'Book_url': 'https://books.toscrape.com/catalogue/the-five-love-languages-how-to-express-heartfelt-commitment-to-your-mate_969/index.html',\n",
       "  'Book Rating': 'Three star',\n",
       "  'Book_code': '3c039985229453bf',\n",
       "  'Book_Geners': 'Nonfiction'},\n",
       " {'Title': 'The Elephant Tree',\n",
       "  'Price': 'Â£23.82',\n",
       "  'Availability': 'In stock (18 available)',\n",
       "  'Book_url': 'https://books.toscrape.com/catalogue/the-elephant-tree_968/index.html',\n",
       "  'Book Rating': 'Five star',\n",
       "  'Book_code': '5dada2b7be26bd03',\n",
       "  'Book_Geners': 'Thriller'},\n",
       " {'Title': 'The Bear and the Piano',\n",
       "  'Price': 'Â£36.89',\n",
       "  'Availability': 'In stock (18 available)',\n",
       "  'Book_url': 'https://books.toscrape.com/catalogue/the-bear-and-the-piano_967/index.html',\n",
       "  'Book Rating': 'One star',\n",
       "  'Book_code': '9f6568e9c95f60b0',\n",
       "  'Book_Geners': 'Childrens'},\n",
       " {'Title': \"Sophie's World\",\n",
       "  'Price': 'Â£15.94',\n",
       "  'Availability': 'In stock (18 available)',\n",
       "  'Book_url': 'https://books.toscrape.com/catalogue/sophies-world_966/index.html',\n",
       "  'Book Rating': 'Five star',\n",
       "  'Book_code': '6be3beb0793a53e7',\n",
       "  'Book_Geners': 'Philosophy'},\n",
       " {'Title': 'Penny Maybe',\n",
       "  'Price': 'Â£33.29',\n",
       "  'Availability': 'In stock (18 available)',\n",
       "  'Book_url': 'https://books.toscrape.com/catalogue/penny-maybe_965/index.html',\n",
       "  'Book Rating': 'Three star',\n",
       "  'Book_code': '668fe56b17cfcd4f',\n",
       "  'Book_Geners': 'Default'},\n",
       " {'Title': 'Maude (1883-1993):She Grew Up with the country',\n",
       "  'Price': 'Â£18.02',\n",
       "  'Availability': 'In stock (18 available)',\n",
       "  'Book_url': 'https://books.toscrape.com/catalogue/maude-1883-1993she-grew-up-with-the-country_964/index.html',\n",
       "  'Book Rating': 'Two star',\n",
       "  'Book_code': '094b269567e1c300',\n",
       "  'Book_Geners': 'Default'},\n",
       " {'Title': 'In a Dark, Dark Wood',\n",
       "  'Price': 'Â£19.63',\n",
       "  'Availability': 'In stock (18 available)',\n",
       "  'Book_url': 'https://books.toscrape.com/catalogue/in-a-dark-dark-wood_963/index.html',\n",
       "  'Book Rating': 'One star',\n",
       "  'Book_code': '19ed25f4641d5efd',\n",
       "  'Book_Geners': 'Mystery'},\n",
       " {'Title': 'Behind Closed Doors',\n",
       "  'Price': 'Â£52.22',\n",
       "  'Availability': 'In stock (18 available)',\n",
       "  'Book_url': 'https://books.toscrape.com/catalogue/behind-closed-doors_962/index.html',\n",
       "  'Book Rating': 'Four star',\n",
       "  'Book_code': 'be5cc846f45496fb',\n",
       "  'Book_Geners': 'Thriller'},\n",
       " {'Title': \"You can't bury them all: Poems\",\n",
       "  'Price': 'Â£33.63',\n",
       "  'Availability': 'In stock (17 available)',\n",
       "  'Book_url': 'https://books.toscrape.com/catalogue/you-cant-bury-them-all-poems_961/index.html',\n",
       "  'Book Rating': 'Two star',\n",
       "  'Book_code': '55f9da0c5eea2e10',\n",
       "  'Book_Geners': 'Poetry'}]"
      ]
     },
     "execution_count": 27,
     "metadata": {},
     "output_type": "execute_result"
    }
   ],
   "source": [
    "parse_page(2)"
   ]
  },
  {
   "cell_type": "markdown",
   "id": "a64d1c20",
   "metadata": {},
   "source": [
    "## Parsing indexes denoting number pages to be scrapped, storing data into Book_info"
   ]
  },
  {
   "cell_type": "code",
   "execution_count": 28,
   "id": "0742767c",
   "metadata": {
    "code_folding": []
   },
   "outputs": [
    {
     "name": "stdout",
     "output_type": "stream",
     "text": [
      "Total number of pages to be scraped:51\n"
     ]
    }
   ],
   "source": [
    "Book_info=[]\n",
    "n=int(input(\"Total number of pages to be scraped:\"))\n",
    "if(n>0 and n<=51): # Check number of pages should not exceed total number of pages \n",
    "    for i in range(1,n):\n",
    "        Book_info.append(parse_page(i))\n",
    "else:\n",
    "    raise Exception('Number of pages to be scraped between 1 and 51')"
   ]
  },
  {
   "cell_type": "markdown",
   "id": "8f57887f",
   "metadata": {},
   "source": [
    "**Giving input value closer to 51, increase computing time because information are scrapped from all 50 pages**"
   ]
  },
  {
   "cell_type": "code",
   "execution_count": 30,
   "id": "762770e7",
   "metadata": {},
   "outputs": [
    {
     "data": {
      "text/plain": [
       "20"
      ]
     },
     "execution_count": 30,
     "metadata": {},
     "output_type": "execute_result"
    }
   ],
   "source": [
    "len(Book_info[1])"
   ]
  },
  {
   "cell_type": "code",
   "execution_count": 31,
   "id": "969251d9",
   "metadata": {},
   "outputs": [
    {
     "data": {
      "application/javascript": [
       "window.require && require([\"base/js/namespace\"],function(Jupyter){Jupyter.notebook.save_checkpoint()})"
      ],
      "text/plain": [
       "<IPython.core.display.Javascript object>"
      ]
     },
     "metadata": {},
     "output_type": "display_data"
    },
    {
     "name": "stdout",
     "output_type": "stream",
     "text": [
      "[jovian] Updating notebook \"jhagautamkumar362/webscraping-fair\" on https://jovian.ai\u001b[0m\n",
      "[jovian] Committed successfully! https://jovian.ai/jhagautamkumar362/webscraping-fair\u001b[0m\n"
     ]
    },
    {
     "data": {
      "text/plain": [
       "'https://jovian.ai/jhagautamkumar362/webscraping-fair'"
      ]
     },
     "execution_count": 31,
     "metadata": {},
     "output_type": "execute_result"
    }
   ],
   "source": [
    "jovian.commit()"
   ]
  },
  {
   "cell_type": "markdown",
   "id": "ea58512e",
   "metadata": {},
   "source": [
    "## Using Pandas  to save the information into dataframe"
   ]
  },
  {
   "cell_type": "code",
   "execution_count": 32,
   "id": "1df375c4",
   "metadata": {},
   "outputs": [],
   "source": [
    "df=pd.DataFrame([r for d in Book_info for r in d])\n"
   ]
  },
  {
   "cell_type": "code",
   "execution_count": 33,
   "id": "d3b1087e",
   "metadata": {},
   "outputs": [
    {
     "data": {
      "application/javascript": [
       "window.require && require([\"base/js/namespace\"],function(Jupyter){Jupyter.notebook.save_checkpoint()})"
      ],
      "text/plain": [
       "<IPython.core.display.Javascript object>"
      ]
     },
     "metadata": {},
     "output_type": "display_data"
    },
    {
     "name": "stdout",
     "output_type": "stream",
     "text": [
      "[jovian] Updating notebook \"jhagautamkumar362/webscraping-fair\" on https://jovian.ai\u001b[0m\n",
      "[jovian] Committed successfully! https://jovian.ai/jhagautamkumar362/webscraping-fair\u001b[0m\n"
     ]
    },
    {
     "data": {
      "text/plain": [
       "'https://jovian.ai/jhagautamkumar362/webscraping-fair'"
      ]
     },
     "execution_count": 33,
     "metadata": {},
     "output_type": "execute_result"
    }
   ],
   "source": [
    "jovian.commit()"
   ]
  },
  {
   "cell_type": "code",
   "execution_count": 34,
   "id": "7af93d46",
   "metadata": {},
   "outputs": [
    {
     "data": {
      "text/html": [
       "<div>\n",
       "<style scoped>\n",
       "    .dataframe tbody tr th:only-of-type {\n",
       "        vertical-align: middle;\n",
       "    }\n",
       "\n",
       "    .dataframe tbody tr th {\n",
       "        vertical-align: top;\n",
       "    }\n",
       "\n",
       "    .dataframe thead th {\n",
       "        text-align: right;\n",
       "    }\n",
       "</style>\n",
       "<table border=\"1\" class=\"dataframe\">\n",
       "  <thead>\n",
       "    <tr style=\"text-align: right;\">\n",
       "      <th></th>\n",
       "      <th>Title</th>\n",
       "      <th>Price</th>\n",
       "      <th>Availability</th>\n",
       "      <th>Book_url</th>\n",
       "      <th>Book Rating</th>\n",
       "      <th>Book_code</th>\n",
       "      <th>Book_Geners</th>\n",
       "    </tr>\n",
       "  </thead>\n",
       "  <tbody>\n",
       "    <tr>\n",
       "      <th>0</th>\n",
       "      <td>A Light in the Attic</td>\n",
       "      <td>Â£51.77</td>\n",
       "      <td>In stock (22 available)</td>\n",
       "      <td>https://books.toscrape.com/catalogue/a-light-i...</td>\n",
       "      <td>Three star</td>\n",
       "      <td>a897fe39b1053632</td>\n",
       "      <td>Poetry</td>\n",
       "    </tr>\n",
       "    <tr>\n",
       "      <th>1</th>\n",
       "      <td>Tipping the Velvet</td>\n",
       "      <td>Â£53.74</td>\n",
       "      <td>In stock (20 available)</td>\n",
       "      <td>https://books.toscrape.com/catalogue/tipping-t...</td>\n",
       "      <td>One star</td>\n",
       "      <td>90fa61229261140a</td>\n",
       "      <td>Historical Fiction</td>\n",
       "    </tr>\n",
       "    <tr>\n",
       "      <th>2</th>\n",
       "      <td>Soumission</td>\n",
       "      <td>Â£50.10</td>\n",
       "      <td>In stock (20 available)</td>\n",
       "      <td>https://books.toscrape.com/catalogue/soumissio...</td>\n",
       "      <td>One star</td>\n",
       "      <td>6957f44c3847a760</td>\n",
       "      <td>Fiction</td>\n",
       "    </tr>\n",
       "    <tr>\n",
       "      <th>3</th>\n",
       "      <td>Sharp Objects</td>\n",
       "      <td>Â£47.82</td>\n",
       "      <td>In stock (20 available)</td>\n",
       "      <td>https://books.toscrape.com/catalogue/sharp-obj...</td>\n",
       "      <td>Four star</td>\n",
       "      <td>e00eb4fd7b871a48</td>\n",
       "      <td>Mystery</td>\n",
       "    </tr>\n",
       "    <tr>\n",
       "      <th>4</th>\n",
       "      <td>Sapiens: A Brief History of Humankind</td>\n",
       "      <td>Â£54.23</td>\n",
       "      <td>In stock (20 available)</td>\n",
       "      <td>https://books.toscrape.com/catalogue/sapiens-a...</td>\n",
       "      <td>Five star</td>\n",
       "      <td>4165285e1663650f</td>\n",
       "      <td>History</td>\n",
       "    </tr>\n",
       "  </tbody>\n",
       "</table>\n",
       "</div>"
      ],
      "text/plain": [
       "                                   Title    Price             Availability  \\\n",
       "0                   A Light in the Attic  Â£51.77  In stock (22 available)   \n",
       "1                     Tipping the Velvet  Â£53.74  In stock (20 available)   \n",
       "2                             Soumission  Â£50.10  In stock (20 available)   \n",
       "3                          Sharp Objects  Â£47.82  In stock (20 available)   \n",
       "4  Sapiens: A Brief History of Humankind  Â£54.23  In stock (20 available)   \n",
       "\n",
       "                                            Book_url Book Rating  \\\n",
       "0  https://books.toscrape.com/catalogue/a-light-i...  Three star   \n",
       "1  https://books.toscrape.com/catalogue/tipping-t...    One star   \n",
       "2  https://books.toscrape.com/catalogue/soumissio...    One star   \n",
       "3  https://books.toscrape.com/catalogue/sharp-obj...   Four star   \n",
       "4  https://books.toscrape.com/catalogue/sapiens-a...   Five star   \n",
       "\n",
       "          Book_code         Book_Geners  \n",
       "0  a897fe39b1053632              Poetry  \n",
       "1  90fa61229261140a  Historical Fiction  \n",
       "2  6957f44c3847a760             Fiction  \n",
       "3  e00eb4fd7b871a48             Mystery  \n",
       "4  4165285e1663650f             History  "
      ]
     },
     "execution_count": 34,
     "metadata": {},
     "output_type": "execute_result"
    }
   ],
   "source": [
    "df.head() # Checking first 5 rows of output "
   ]
  },
  {
   "cell_type": "markdown",
   "id": "9adcd4fb",
   "metadata": {},
   "source": [
    "**Coverting all dataframe into csv and saving file containing all header for columns and different character**"
   ]
  },
  {
   "cell_type": "code",
   "execution_count": 35,
   "id": "ed2606cd",
   "metadata": {},
   "outputs": [],
   "source": [
    "df.to_csv('Book_Scrapped_Info.csv', index = False, encoding='utf-8', header=True)"
   ]
  },
  {
   "cell_type": "markdown",
   "id": "9cfec8d9",
   "metadata": {},
   "source": [
    "# Summary\n",
    "- The scraping of the website has been done using Python libraries requests, BeautifulSoup\n",
    "- Total number of pages scraped is 50, each page contains 20 books, so total 1000 Books has been scraped \n",
    "- For each book information extracted are Book_title, Book_Price, Book_Rating, Book_Availability,Book_url,Book_code,Book_Geners\n",
    "- All information scrapped from different webpages contains total 7 -coloumns and 1000 rows \n",
    "- Using the python Pandas dataframe and CSV all information scrapped has been converted into .csv format file "
   ]
  },
  {
   "cell_type": "markdown",
   "id": "04b76409",
   "metadata": {},
   "source": [
    "# Future Work\n",
    "-  As a continuation of the above work some of the other information related to book like author of Book, content of Books, Product Description, Number of reviews can be extracted \n",
    "- Using better Datastructure to take optimal time for extracting more information \n",
    "- Extrated information into csv file can be used later for performing EDA and other operations\n",
    "- Restructuring of flow of content "
   ]
  },
  {
   "cell_type": "markdown",
   "id": "e7ee7a2d",
   "metadata": {},
   "source": [
    "#  References\n",
    "- [Books to Scrape](https://books.toscrape.com/index.html)\n",
    "- [Beautiful Soup](https://www.crummy.com/software/BeautifulSoup/bs4/doc/)\n",
    "- [HTTP](https://developer.mozilla.org/en-US/docs/Web/HTTP/Status)\n",
    "- [Requests](https://pypi.org/project/requests/)\n",
    "- [Image storage](https://imgur.com/])\n",
    "- [CSV writing and reading](https://docs.python.org/3/library/csv.html)\n",
    "- [Pandas](https://pandas.pydata.org/)\n",
    "- [Jupyter Notebook](https://jupyter.org/)"
   ]
  },
  {
   "cell_type": "code",
   "execution_count": 37,
   "id": "c7c2f88d",
   "metadata": {},
   "outputs": [
    {
     "data": {
      "application/javascript": [
       "window.require && require([\"base/js/namespace\"],function(Jupyter){Jupyter.notebook.save_checkpoint()})"
      ],
      "text/plain": [
       "<IPython.core.display.Javascript object>"
      ]
     },
     "metadata": {},
     "output_type": "display_data"
    },
    {
     "name": "stdout",
     "output_type": "stream",
     "text": [
      "[jovian] Updating notebook \"jhagautamkumar362/webscraping-fair\" on https://jovian.ai\u001b[0m\n",
      "[jovian] Committed successfully! https://jovian.ai/jhagautamkumar362/webscraping-fair\u001b[0m\n"
     ]
    },
    {
     "data": {
      "text/plain": [
       "'https://jovian.ai/jhagautamkumar362/webscraping-fair'"
      ]
     },
     "execution_count": 37,
     "metadata": {},
     "output_type": "execute_result"
    }
   ],
   "source": [
    "import jovian\n",
    "jovian.commit()"
   ]
  },
  {
   "cell_type": "code",
   "execution_count": null,
   "id": "81b424e6",
   "metadata": {},
   "outputs": [],
   "source": []
  }
 ],
 "metadata": {
  "kernelspec": {
   "display_name": "Python 3 (ipykernel)",
   "language": "python",
   "name": "python3"
  },
  "language_info": {
   "codemirror_mode": {
    "name": "ipython",
    "version": 3
   },
   "file_extension": ".py",
   "mimetype": "text/x-python",
   "name": "python",
   "nbconvert_exporter": "python",
   "pygments_lexer": "ipython3",
   "version": "3.9.6"
  }
 },
 "nbformat": 4,
 "nbformat_minor": 5
}
